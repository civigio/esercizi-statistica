{
 "cells": [
  {
   "cell_type": "code",
   "execution_count": 1,
   "metadata": {},
   "outputs": [],
   "source": [
    "import numpy as np\n",
    "import matplotlib.pyplot as plt\n",
    "import scipy as sp\n",
    "from decimal import Decimal"
   ]
  },
  {
   "cell_type": "code",
   "execution_count": 5,
   "metadata": {},
   "outputs": [
    {
     "name": "stdout",
     "output_type": "stream",
     "text": [
      "3.4859\n",
      "4.0642862\n",
      "4.4217288716\n",
      "4.6426284426488\n",
      "4.779144377556959\n",
      "4.863511225330201\n",
      "4.915649937254064\n",
      "4.883428213285116\n",
      "4.903341238697926\n",
      "4.915647488403042\n",
      "4.90804222608528\n",
      "4.912742278197657\n",
      "4.9156469104031055\n",
      "4.913851847700139\n",
      "4.912742498949704\n",
      "4.913428076477473\n",
      "4.913004389565312\n",
      "4.912742551053597\n",
      "4.912904367253837\n",
      "4.9128043648420885\n",
      "4.912866166332549\n",
      "4.912827973011445\n",
      "4.912851576483888\n",
      "-------------------\n",
      "estimator: 4.912851576483888\n",
      "mean value: 4.912841538630454\n"
     ]
    },
    {
     "ename": "ValueError",
     "evalue": "argument must be a sequence of length 3",
     "output_type": "error",
     "traceback": [
      "\u001b[1;31m---------------------------------------------------------------------------\u001b[0m",
      "\u001b[1;31mValueError\u001b[0m                                Traceback (most recent call last)",
      "Cell \u001b[1;32mIn[5], line 52\u001b[0m\n\u001b[0;32m     49\u001b[0m \u001b[38;5;28mprint\u001b[39m(\u001b[38;5;124m'\u001b[39m\u001b[38;5;124mmean value:\u001b[39m\u001b[38;5;124m'\u001b[39m, mean)\n\u001b[0;32m     51\u001b[0m x_coord\u001b[38;5;241m=\u001b[39mnp\u001b[38;5;241m.\u001b[39marange(\u001b[38;5;241m0.01\u001b[39m, \u001b[38;5;241m10\u001b[39m, \u001b[38;5;241m0.01\u001b[39m)\n\u001b[1;32m---> 52\u001b[0m y_coord\u001b[38;5;241m=\u001b[39m\u001b[43mDecimal\u001b[49m\u001b[43m(\u001b[49m\u001b[43m[\u001b[49m\u001b[43m]\u001b[49m\u001b[43m)\u001b[49m\n\u001b[0;32m     53\u001b[0m \u001b[38;5;28;01mfor\u001b[39;00m i \u001b[38;5;129;01min\u001b[39;00m x_coord:\n\u001b[0;32m     54\u001b[0m     y_coord\u001b[38;5;241m.\u001b[39mappend(loglikelihood(i, \u001b[38;5;28mlist\u001b[39m))\n",
      "\u001b[1;31mValueError\u001b[0m: argument must be a sequence of length 3"
     ]
    }
   ],
   "source": [
    "list=np.random.exponential(5, 10000)\n",
    "y_coord=[]\n",
    "x_coord=np.arange(0.1, 10, 0.01)\n",
    "\n",
    "def loglikelihood(tau, list):\n",
    "    return Decimal(np.sum(np.log(((1/tau)*np.exp(-(list)/tau)))))\n",
    "\n",
    "def sezioneAureaMax (\n",
    "    g,              # funzione di cui trovare lo zero\n",
    "    list,           # set di dati su cui è definita la funzione\n",
    "    x0,             # estremo dell'intervallo          \n",
    "    x1,             # altro estremo dell'intervallo         \n",
    "    prec = 0.0001): # precisione della funzione        \n",
    "    '''\n",
    "    Funzione che calcola estremanti\n",
    "    con il metodo della sezione aurea\n",
    "    '''\n",
    "\n",
    "    r = 0.618\n",
    "    x2 = 0.\n",
    "    x3 = 0. \n",
    "    larghezza = abs (x1 - x0)\n",
    "     \n",
    "    while (larghezza > prec):\n",
    "        x2 = x0 + r * (x1 - x0) \n",
    "        x3 = x0 + (1. - r) * (x1 - x0)  \n",
    "      \n",
    "        # si restringe l'intervallo tenendo fisso uno dei due estremi e spostando l'altro        \n",
    "        if (g (x3, list) < g (x2, list)): \n",
    "            x0 = x3\n",
    "            x1 = x1         \n",
    "        else :\n",
    "            x1 = x2\n",
    "            x0 = x0         \n",
    "            \n",
    "        larghezza = abs (x1-x0)\n",
    "        s = (x0+x1)/2.\n",
    "        print(s)             \n",
    "                                   \n",
    "    return (x0 + x1) / 2.\n",
    "\n",
    "\n",
    "\n",
    "estimator = sezioneAureaMax(loglikelihood, list, 0.1, 5.)\n",
    "mean = np.sum(list)/(len(list))\n",
    "\n",
    "print('-------------------')\n",
    "print('estimator:', estimator)\n",
    "print('mean value:', mean)\n",
    "\n",
    "x_coord=np.arange(0.01, 10, 0.01)\n",
    "y_coord=Decimal([])\n",
    "for i in x_coord:\n",
    "    y_coord.append(loglikelihood(i, list))\n",
    "\n",
    "fig, ax = plt.subplots(1, 1)\n",
    "plt.plot(x_coord, y_coord)\n",
    "plt.plot(estimator, loglikelihood(estimator, list), color='red')\n",
    "plt.grid()\n",
    "plt.show()\n"
   ]
  }
 ],
 "metadata": {
  "kernelspec": {
   "display_name": "Python 3",
   "language": "python",
   "name": "python3"
  },
  "language_info": {
   "codemirror_mode": {
    "name": "ipython",
    "version": 3
   },
   "file_extension": ".py",
   "mimetype": "text/x-python",
   "name": "python",
   "nbconvert_exporter": "python",
   "pygments_lexer": "ipython3",
   "version": "3.11.7"
  }
 },
 "nbformat": 4,
 "nbformat_minor": 2
}
