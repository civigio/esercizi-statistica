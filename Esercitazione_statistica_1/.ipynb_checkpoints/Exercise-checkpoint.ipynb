{
 "cells": [
  {
   "cell_type": "code",
   "execution_count": 5,
   "id": "d957fae8-4090-46e4-8b77-89ba2f75f2f7",
   "metadata": {},
   "outputs": [
    {
     "ename": "SyntaxError",
     "evalue": "invalid syntax (746700095.py, line 49)",
     "output_type": "error",
     "traceback": [
      "\u001b[1;36m  Cell \u001b[1;32mIn[5], line 49\u001b[1;36m\u001b[0m\n\u001b[1;33m    while y > func(x, G, M):\u001b[0m\n\u001b[1;37m    ^\u001b[0m\n\u001b[1;31mSyntaxError\u001b[0m\u001b[1;31m:\u001b[0m invalid syntax\n"
     ]
    }
   ],
   "source": [
    "import random\n",
    "import math\n",
    "\n",
    "def uniform_range(minimum: float,\n",
    "                  maximum: float) -> float:\n",
    "    \"\"\"\n",
    "    Generation of a pseudo-casual number distributed accordingly to uniform distribution between\n",
    "    [minimum, maximum)\n",
    "\n",
    "    Args:\n",
    "        minimum: lower limit of the range (included)\n",
    "        maximum: upper limit of the range (excluded)\n",
    "\n",
    "    Returns:\n",
    "        A pseudo-casual numbers generated according to uniform distribution between [minimum, maximum)\n",
    "    \"\"\"\n",
    "\n",
    "    return minimum + (random.random() * (maximum - minimum))\n",
    "\n",
    "\n",
    "def func(x, G, M):\n",
    "    return (1/math.pi)*(G/((x-M)**2 + G**2))\n",
    "\n",
    "def tac_cauchy(G: float,\n",
    "               M: float,\n",
    "               half_width: float,\n",
    "               seed: float = 0.) -> float:\n",
    "    \"\"\"\n",
    "    Generation of a pseudo-casual number distributed accordingly to the Cauchy distribution\n",
    "    with the try-an-catch algorithm, into a \"box\" delimited by x_minimum and x_maximum for the\n",
    "    horizontal axis and y_minimum and y_maximum for the vertical axis starting from an optional seed\n",
    "    different from 0.\n",
    "\n",
    "    Args:\n",
    "        G: parameter of the function\n",
    "        M: parameter of the function\n",
    "        half_width: half width of the interval over the horizontal axis\n",
    "        seed: starting seed for the random generation (optional)\n",
    "\n",
    "    Returns:\n",
    "        A single number generated with the try-an-catch algorithm\n",
    "    \"\"\"\n",
    "    \n",
    "    if seed != 0.:\n",
    "        random.seed(seed)\n",
    "    x = uniform_range(M - half_width, M + half_width)\n",
    "    y = uniform_range(0, 1/(math.pi*G)\n",
    "\n",
    "    while y > func(x, G, M):\n",
    "        x = uniform_range(M - half_width, M + half_width)\n",
    "        y = uniform_range(0, 1/(math.pi*G)\n",
    "    return x"
   ]
  },
  {
   "cell_type": "code",
   "execution_count": 6,
   "id": "4db9318b-5d11-4114-bbd5-944fc07a0647",
   "metadata": {},
   "outputs": [
    {
     "ename": "NameError",
     "evalue": "name 'tac_cauchy' is not defined",
     "output_type": "error",
     "traceback": [
      "\u001b[1;31m---------------------------------------------------------------------------\u001b[0m",
      "\u001b[1;31mNameError\u001b[0m                                 Traceback (most recent call last)",
      "Cell \u001b[1;32mIn[6], line 1\u001b[0m\n\u001b[1;32m----> 1\u001b[0m a \u001b[38;5;241m=\u001b[39m \u001b[43mtac_cauchy\u001b[49m(\u001b[38;5;241m1\u001b[39m, \u001b[38;5;241m1\u001b[39m, \u001b[38;5;241m3\u001b[39m)\n",
      "\u001b[1;31mNameError\u001b[0m: name 'tac_cauchy' is not defined"
     ]
    }
   ],
   "source": [
    "a = tac_cauchy(1, 1, 3)"
   ]
  }
 ],
 "metadata": {
  "kernelspec": {
   "display_name": "Python 3 (ipykernel)",
   "language": "python",
   "name": "python3"
  },
  "language_info": {
   "codemirror_mode": {
    "name": "ipython",
    "version": 3
   },
   "file_extension": ".py",
   "mimetype": "text/x-python",
   "name": "python",
   "nbconvert_exporter": "python",
   "pygments_lexer": "ipython3",
   "version": "3.11.7"
  }
 },
 "nbformat": 4,
 "nbformat_minor": 5
}
