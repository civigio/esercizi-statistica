{
 "cells": [
  {
   "cell_type": "markdown",
   "source": [
    "Insert the source code of the previous exercise into a loop that performs the comparison as the number of events considered for the fit varies, from 20 to 10000, with a regular log-scale increment.\n",
    "\n",
    "Use different plots to show the behavior of the parameters and their uncertainties as the number of events changes, for both types of estimators.\n",
    "\n",
    "Add to the comparison the fit performed with the least squares method.\n",
    "\n",
    "Which estimator is less biased at low statistics?"
   ],
   "metadata": {
    "collapsed": false
   },
   "id": "75ceb11331a73422"
  },
  {
   "cell_type": "code",
   "outputs": [],
   "source": [
    "import numpy as np\n",
    "from iminuit import Minuit\n",
    "from math import floor, ceil\n",
    "from iminuit.cost import BinnedNLL\n",
    "from iminuit.cost import UnbinnedNLL\n",
    "from matplotlib import pyplot as plt\n",
    "from scipy.stats import norm\n",
    "import spl.generate"
   ],
   "metadata": {
    "collapsed": false,
    "ExecuteTime": {
     "end_time": "2024-01-15T10:50:46.987926400Z",
     "start_time": "2024-01-15T10:50:46.143215100Z"
    }
   },
   "id": "39ac3056372db02c",
   "execution_count": 1
  },
  {
   "cell_type": "code",
   "outputs": [],
   "source": [
    "def sturge(sample):\n",
    "    return floor(1 + 3.322 * np.log(len(sample)))"
   ],
   "metadata": {
    "collapsed": true,
    "ExecuteTime": {
     "end_time": "2024-01-15T10:50:46.997755900Z",
     "start_time": "2024-01-15T10:50:46.992266100Z"
    }
   },
   "id": "initial_id",
   "execution_count": 2
  },
  {
   "cell_type": "code",
   "outputs": [],
   "source": [
    "sample_size = 20\n",
    "N_toys = 50\n",
    "N_evt = 10000\n",
    "means_bin = []\n",
    "sigmas_bin = []\n",
    "events = []\n",
    "\n"
   ],
   "metadata": {
    "collapsed": false
   },
   "id": "49c835c74540492f"
  }
 ],
 "metadata": {
  "kernelspec": {
   "display_name": "Python 3",
   "language": "python",
   "name": "python3"
  },
  "language_info": {
   "codemirror_mode": {
    "name": "ipython",
    "version": 2
   },
   "file_extension": ".py",
   "mimetype": "text/x-python",
   "name": "python",
   "nbconvert_exporter": "python",
   "pygments_lexer": "ipython2",
   "version": "2.7.6"
  }
 },
 "nbformat": 4,
 "nbformat_minor": 5
}
