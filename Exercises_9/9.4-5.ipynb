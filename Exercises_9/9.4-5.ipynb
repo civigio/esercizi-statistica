{
 "cells": [
  {
   "cell_type": "code",
   "execution_count": 1,
   "metadata": {},
   "outputs": [],
   "source": [
    "import random\n",
    "import matplotlib.pyplot as plt\n",
    "import numpy as np\n",
    "import math"
   ]
  },
  {
   "cell_type": "code",
   "execution_count": 2,
   "metadata": {},
   "outputs": [],
   "source": [
    "def rand_range (xMin, xMax) :\n",
    "    '''\n",
    "    generazione di un numero pseudo-casuale distribuito fra xMin ed xMax\n",
    "    '''\n",
    "    return xMin + random.random () * (xMax - xMin)\n",
    "\n",
    "def func(x, tau): return -((np.log(1-x))*(tau))"
   ]
  },
  {
   "cell_type": "code",
   "execution_count": 3,
   "metadata": {},
   "outputs": [],
   "source": [
    "def likelihood(list):\n",
    "    return np.prod(list)\n",
    "\n",
    "def loglikelihood(list):\n",
    "    return np.sum(list)"
   ]
  },
  {
   "cell_type": "code",
   "execution_count": 4,
   "metadata": {},
   "outputs": [],
   "source": [
    "taulist=[1, 2, 5, 10, 20]"
   ]
  },
  {
   "cell_type": "code",
   "execution_count": 5,
   "metadata": {},
   "outputs": [
    {
     "name": "stdout",
     "output_type": "stream",
     "text": [
      "[7.35524322e-048 5.80226382e-078 9.32387848e-118 7.35524322e-148\n",
      " 5.80226382e-178]\n"
     ]
    }
   ],
   "source": [
    "likelihood_values=np.array([])\n",
    "list=np.array([])\n",
    "\n",
    "for i in range(100):\n",
    "    list=np.append(list, rand_range(0,1))\n",
    "\n",
    "for tau in taulist:\n",
    "    exponential_pdf=np.array(func(list, tau))\n",
    "    exponential=((1/tau)*np.exp(-(exponential_pdf)/tau))\n",
    "    likelihood_values=np.append(likelihood_values, likelihood(exponential))\n",
    "\n",
    "print(likelihood_values)"
   ]
  },
  {
   "cell_type": "code",
   "execution_count": 6,
   "metadata": {},
   "outputs": [
    {
     "name": "stdout",
     "output_type": "stream",
     "text": [
      "[ -89.08036802 -158.39508607 -250.02415926 -319.33887732 -388.65359537]\n"
     ]
    }
   ],
   "source": [
    "log_likelihood_values=np.array([])\n",
    "log_list=np.array([])\n",
    "\n",
    "for i in range(100):\n",
    "    log_list=np.append(log_list, rand_range(0,1))\n",
    "\n",
    "for tau in taulist:\n",
    "    exponential_pdf=np.array(func(log_list, tau))\n",
    "    exponential=((1/tau)*np.exp(-(exponential_pdf)/tau))\n",
    "    log_likelihood_values=np.append(log_likelihood_values, likelihood(exponential))\n",
    "\n",
    "log_likelihood_values=np.log(log_likelihood_values)\n",
    "print(log_likelihood_values)"
   ]
  }
 ],
 "metadata": {
  "kernelspec": {
   "display_name": "Python 3",
   "language": "python",
   "name": "python3"
  },
  "language_info": {
   "codemirror_mode": {
    "name": "ipython",
    "version": 3
   },
   "file_extension": ".py",
   "mimetype": "text/x-python",
   "name": "python",
   "nbconvert_exporter": "python",
   "pygments_lexer": "ipython3",
   "version": "3.11.6"
  }
 },
 "nbformat": 4,
 "nbformat_minor": 2
}
